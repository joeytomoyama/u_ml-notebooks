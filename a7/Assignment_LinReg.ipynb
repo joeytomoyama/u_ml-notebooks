{
 "cells": [
  {
   "attachments": {},
   "cell_type": "markdown",
   "metadata": {},
   "source": [
    "# Exercise Myoelectric Control for Artificial Limbs\n",
    "\n",
    "In this assignment you will implement an ordinary least squares estimator\n",
    "\n",
    "$\n",
    "W = (XX^\\top)^{-1}XY^\\top\n",
    "$\n",
    "\n",
    "for prediction of 2 dimensional hand positions from electromyographic recordings obtained with a high-density electrode array of the lower arm. \n",
    "\n",
    "In the data file you will find training data and labels. The data are bandpower time series in 192 dimensions (electrodes). The labels are 2 dimensional hand positions measured with a motion capture system. You will also find test data, for which no labels will be provided. The data loading routine already does the log-transform of the bandpower data, so you can just go ahead and compute the Ordinary Least Squares solution. "
   ]
  },
  {
   "cell_type": "code",
   "execution_count": 45,
   "metadata": {},
   "outputs": [],
   "source": [
    "import pylab as pl\n",
    "import numpy as np\n",
    "from numpy.linalg import inv\n",
    "from scipy.io import loadmat\n",
    "import matplotlib.pyplot as pl\n",
    "\n",
    "def load_data(fname):\n",
    "    # load the data\n",
    "    data = loadmat(fname)\n",
    "    # extract images and labels\n",
    "    X = np.log(data['training_data'])\n",
    "    Y = data['training_labels']\n",
    "    Xtest = np.log(data['test_data'])\n",
    "    return X,Y,Xtest"
   ]
  },
  {
   "attachments": {},
   "cell_type": "markdown",
   "metadata": {},
   "source": [
    "# Which hand movement was performed?\n",
    "\n",
    "Implement the ordinary least squares estimator above in order to predict the hand position from the myoelectric data. \n",
    "\n",
    "Then plot the predictions of the test data. Which hand movement was performed? "
   ]
  },
  {
   "cell_type": "code",
   "execution_count": 46,
   "metadata": {},
   "outputs": [
    {
     "data": {
      "text/plain": [
       "Text(0, 0.5, '$Y_2$')"
      ]
     },
     "execution_count": 46,
     "metadata": {},
     "output_type": "execute_result"
    },
    {
     "data": {
      "image/png": "[encoded data removed]",
      "text/plain": [
       "<Figure size 500x400 with 1 Axes>"
      ]
     },
     "metadata": {},
     "output_type": "display_data"
    }
   ],
   "source": [
    "X,Y,Xtest = load_data('myo_data.mat')\n",
    "\n",
    "# Compute ordinary least squares solution\n",
    "# INSERT CODE HERE\n",
    "X = X.T\n",
    "W = np.linalg.inv(X @ X.T) @ (X @ Y.T)\n",
    "\n",
    "# predict test data\n",
    "Ytest = Xtest.T @ W\n",
    "\n",
    "# plot\n",
    "fig = pl.figure(figsize=(5,4))\n",
    "fig.clf()\n",
    "pl.plot(Ytest[0,:],Ytest[1,:],'r.')\n",
    "pl.xlabel('$Y_1$')\n",
    "pl.ylabel('$Y_2$')"
   ]
  }
 ],
 "metadata": {
  "kernelspec": {
   "display_name": "Python 3 (ipykernel)",
   "language": "python",
   "name": "python3"
  },
  "language_info": {
   "codemirror_mode": {
    "name": "ipython",
    "version": 3
   },
   "file_extension": ".py",
   "mimetype": "text/x-python",
   "name": "python",
   "nbconvert_exporter": "python",
   "pygments_lexer": "ipython3",
   "version": "3.10.6"
  }
 },
 "nbformat": 4,
 "nbformat_minor": 2
}
