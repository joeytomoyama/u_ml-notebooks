{
 "cells": [
  {
   "attachments": {},
   "cell_type": "markdown",
   "metadata": {},
   "source": [
    "# Clustering Exercise\n",
    "\n",
    "In this exercise you will use a data set crawled from immobilienscout24.de to cluster flats in Berlin. \n",
    "\n",
    "First let's load the data and install a package for plotting on a map. "
   ]
  },
  {
   "cell_type": "code",
   "execution_count": 2,
   "metadata": {},
   "outputs": [],
   "source": [
    "import pandas as pd\n",
    "\n",
    "df_is = pd.read_csv('mietwohnungen.csv').dropna(subset=['lat','lng'], how='any')\n",
    "# some data cleaning\n",
    "df_is['lat'] = df_is['lat'].str.strip(\",\").astype(float)\n",
    "X = df_is[['lat','lng']]"
   ]
  },
  {
   "attachments": {},
   "cell_type": "markdown",
   "metadata": {},
   "source": [
    "Now let's learn a clustering with sklearn's ``MiniBatchKMeans`` and compute the cluster assignments for all data points."
   ]
  },
  {
   "cell_type": "code",
   "execution_count": 3,
   "metadata": {},
   "outputs": [
    {
     "name": "stderr",
     "output_type": "stream",
     "text": [
      "/home/joey/Studium/5semester/ml/repos/venv/lib/python3.10/site-packages/sklearn/cluster/_kmeans.py:870: FutureWarning: The default value of `n_init` will change from 3 to 'auto' in 1.4. Set the value of `n_init` explicitly to suppress the warning\n",
      "  warnings.warn(\n"
     ]
    }
   ],
   "source": [
    "from sklearn.cluster import MiniBatchKMeans\n",
    "# we'll look at 12 clusters - feel free to change that\n",
    "n_clusters = 12\n",
    "# IMPLEMENT YOUR CODE HERE\n",
    "# TRAIN A KMEANS MODEL\n",
    "km_is = MiniBatchKMeans(n_clusters=n_clusters)\n",
    "km_is.fit(X)\n",
    "# PREDICT CLUSTERS WITH THAT MODEL HERE\n",
    "df_is['cluster_assignment'] = km_is.predict(X)"
   ]
  },
  {
   "attachments": {},
   "cell_type": "markdown",
   "metadata": {},
   "source": [
    "Now let's plot the predictions on the Berlin map."
   ]
  },
  {
   "cell_type": "code",
   "execution_count": 4,
   "metadata": {},
   "outputs": [
    {
     "name": "stdout",
     "output_type": "stream",
     "text": [
      "Requirement already satisfied: folium in /home/joey/Studium/5semester/ml/repos/venv/lib/python3.10/site-packages (0.14.0)\n",
      "Requirement already satisfied: requests in /home/joey/Studium/5semester/ml/repos/venv/lib/python3.10/site-packages (from folium) (2.31.0)\n",
      "Requirement already satisfied: numpy in /home/joey/Studium/5semester/ml/repos/venv/lib/python3.10/site-packages (from folium) (1.24.3)\n",
      "Requirement already satisfied: jinja2>=2.9 in /home/joey/Studium/5semester/ml/repos/venv/lib/python3.10/site-packages (from folium) (3.1.2)\n",
      "Requirement already satisfied: branca>=0.6.0 in /home/joey/Studium/5semester/ml/repos/venv/lib/python3.10/site-packages (from folium) (0.6.0)\n",
      "Requirement already satisfied: MarkupSafe>=2.0 in /home/joey/Studium/5semester/ml/repos/venv/lib/python3.10/site-packages (from jinja2>=2.9->folium) (2.1.3)\n",
      "Requirement already satisfied: certifi>=2017.4.17 in /home/joey/Studium/5semester/ml/repos/venv/lib/python3.10/site-packages (from requests->folium) (2023.5.7)\n",
      "Requirement already satisfied: charset-normalizer<4,>=2 in /home/joey/Studium/5semester/ml/repos/venv/lib/python3.10/site-packages (from requests->folium) (3.1.0)\n",
      "Requirement already satisfied: urllib3<3,>=1.21.1 in /home/joey/Studium/5semester/ml/repos/venv/lib/python3.10/site-packages (from requests->folium) (2.0.3)\n",
      "Requirement already satisfied: idna<4,>=2.5 in /home/joey/Studium/5semester/ml/repos/venv/lib/python3.10/site-packages (from requests->folium) (3.4)\n",
      "Note: you may need to restart the kernel to use updated packages.\n"
     ]
    },
    {
     "data": {
      "text/html": [
       "\n",
       "        <iframe\n",
       "            width=\"700\"\n",
       "            height=\"600\"\n",
       "            src=\"./flat_clusters.html\"\n",
       "            frameborder=\"0\"\n",
       "            allowfullscreen\n",
       "            \n",
       "        ></iframe>\n",
       "        "
      ],
      "text/plain": [
       "<IPython.lib.display.IFrame at 0x7fc24c51ed70>"
      ]
     },
     "execution_count": 4,
     "metadata": {},
     "output_type": "execute_result"
    }
   ],
   "source": [
    "# uncomment the next line to install the folium package for plotting maps\n",
    "%pip install folium\n",
    "import folium\n",
    "from matplotlib import colors as mcolors\n",
    "# some dark colors without gray/grey\n",
    "colors = [c for c in list(mcolors.CSS4_COLORS.keys()) if 'dark' in c][6:]\n",
    "\n",
    "# the initial map, centered at Beuth\n",
    "m = folium.Map(location=[52.545195, 13.354670], tiles='Stamen Toner', zoom_start=10)\n",
    "\n",
    "# add the flats and the cluster centers to the map\n",
    "for cluster_id in range(len(df_is['cluster_assignment'].unique())):\n",
    "    this_cluster_idx = df_is['cluster_assignment']==cluster_id\n",
    "    this_cluster_lat_lng = df_is.loc[this_cluster_idx, ['lat','lng']].values\n",
    "    for lat, lng in this_cluster_lat_lng:\n",
    "        folium.CircleMarker(\n",
    "        radius=2,\n",
    "        location=[lat, lng],\n",
    "        color=colors[cluster_id],\n",
    "        fill=False,\n",
    "        ).add_to(m)\n",
    "    \n",
    "    folium.CircleMarker(\n",
    "        location=[coord for coord in km_is.cluster_centers_[cluster_id,:]],\n",
    "        radius=10,\n",
    "        color=colors[cluster_id],\n",
    "        fill=True,\n",
    "    ).add_to(m)\n",
    "\n",
    "m.save('flat_clusters.html')\n",
    "\n",
    "from IPython.display import IFrame\n",
    "\n",
    "IFrame(src='./flat_clusters.html', width=700, height=600)"
   ]
  }
 ],
 "metadata": {
  "kernelspec": {
   "display_name": "Python 3 (ipykernel)",
   "language": "python",
   "name": "python3"
  },
  "language_info": {
   "codemirror_mode": {
    "name": "ipython",
    "version": 3
   },
   "file_extension": ".py",
   "mimetype": "text/x-python",
   "name": "python",
   "nbconvert_exporter": "python",
   "pygments_lexer": "ipython3",
   "version": "3.10.6"
  }
 },
 "nbformat": 4,
 "nbformat_minor": 2
}
