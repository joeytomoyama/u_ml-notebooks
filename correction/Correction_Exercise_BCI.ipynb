{
 "cells": [
  {
   "attachments": {},
   "cell_type": "markdown",
   "metadata": {},
   "source": [
    "# Exercise Brain-Computer Interfaces\n",
    "\n",
    "In this assignment you will estimate cognitive states from electroencephalogram (EEG) data. \n",
    "\n",
    "Electroencephalography (EEG) data was recorded during a copy-spelling BCI Experiment at the [Berlin BCI group](http://www.bbci.de).\n",
    "\n",
    "The data set consists preprocessed EEG data $X\\in R^{5\\times 62 \\times 5322}$ and stimulus labels $Y\\in R^{2\\times 5322}$ \n",
    "during a copy-spelling paradigm with a P300 speller. The data matrix X contains 5 selected time windows of EEG activity at 62 electrodes after a visual stimulus was presented on the screen in front of the subject. If the first row of $Y$ is 1, the stimulus was a target stimulus, if the second row of $Y$ is 1, the stimulus was a non-target stimulus. "
   ]
  },
  {
   "cell_type": "code",
   "execution_count": 5,
   "metadata": {},
   "outputs": [],
   "source": [
    "import pylab as pl\n",
    "import numpy as np\n",
    "from scipy.linalg import eig\n",
    "from scipy.io import loadmat\n",
    "from sklearn.model_selection import train_test_split\n",
    "\n",
    "def load_data(fname):\n",
    "    # load the data\n",
    "    data = loadmat(fname)\n",
    "    # extract images and labels\n",
    "    X = data['X']\n",
    "    Y = data['Y']\n",
    "    # collapse the time-electrode dimensions\n",
    "    X = np.reshape(X,(X.shape[0]*X.shape[1],X.shape[2])).T\n",
    "    # transform the labels to (-1,1)\n",
    "    Y = np.sign((Y[0,:]>0) -.5)\n",
    "    return X,Y\n",
    "\n",
    "X,Y = load_data(fname='bcidata.mat')"
   ]
  },
  {
   "attachments": {},
   "cell_type": "markdown",
   "metadata": {},
   "source": [
    "# Assignment 1: Train a Nearest Centroid Classifier"
   ]
  },
  {
   "cell_type": "code",
   "execution_count": 6,
   "metadata": {
    "scrolled": true
   },
   "outputs": [
    {
     "ename": "IndexError",
     "evalue": "only integers, slices (`:`), ellipsis (`...`), numpy.newaxis (`None`) and integer or boolean arrays are valid indices",
     "output_type": "error",
     "traceback": [
      "\u001b[0;31m---------------------------------------------------------------------------\u001b[0m",
      "\u001b[0;31mIndexError\u001b[0m                                Traceback (most recent call last)",
      "\u001b[1;32m/home/randy/npy/Exercise_BCI.ipynb Cell 4\u001b[0m in \u001b[0;36m<cell line: 23>\u001b[0;34m()\u001b[0m\n\u001b[1;32m     <a href='vscode-notebook-cell://wsl%2Bubuntu/home/randy/npy/Exercise_BCI.ipynb#W3sdnNjb2RlLXJlbW90ZQ%3D%3D?line=18'>19</a>\u001b[0m     \u001b[39mreturn\u001b[39;00m w,b\n\u001b[1;32m     <a href='vscode-notebook-cell://wsl%2Bubuntu/home/randy/npy/Exercise_BCI.ipynb#W3sdnNjb2RlLXJlbW90ZQ%3D%3D?line=20'>21</a>\u001b[0m X_train, X_test, Y_train, Y_test \u001b[39m=\u001b[39m train_test_split(X,Y)\n\u001b[0;32m---> <a href='vscode-notebook-cell://wsl%2Bubuntu/home/randy/npy/Exercise_BCI.ipynb#W3sdnNjb2RlLXJlbW90ZQ%3D%3D?line=22'>23</a>\u001b[0m w_ncc, b_ncc \u001b[39m=\u001b[39m ncc_fit(X_train, Y_train)\n\u001b[1;32m     <a href='vscode-notebook-cell://wsl%2Bubuntu/home/randy/npy/Exercise_BCI.ipynb#W3sdnNjb2RlLXJlbW90ZQ%3D%3D?line=24'>25</a>\u001b[0m pl\u001b[39m.\u001b[39mhist(X_test[Y_test\u001b[39m<\u001b[39m\u001b[39m0\u001b[39m, :] \u001b[39m@\u001b[39m w_ncc)\n\u001b[1;32m     <a href='vscode-notebook-cell://wsl%2Bubuntu/home/randy/npy/Exercise_BCI.ipynb#W3sdnNjb2RlLXJlbW90ZQ%3D%3D?line=25'>26</a>\u001b[0m pl\u001b[39m.\u001b[39mhist(X_test[Y_test\u001b[39m>\u001b[39m\u001b[39m0\u001b[39m, :] \u001b[39m@\u001b[39m w_ncc)\n",
      "\u001b[1;32m/home/randy/npy/Exercise_BCI.ipynb Cell 4\u001b[0m in \u001b[0;36mncc_fit\u001b[0;34m(X, Y)\u001b[0m\n\u001b[1;32m      <a href='vscode-notebook-cell://wsl%2Bubuntu/home/randy/npy/Exercise_BCI.ipynb#W3sdnNjb2RlLXJlbW90ZQ%3D%3D?line=1'>2</a>\u001b[0m \u001b[39m'''\u001b[39;00m\n\u001b[1;32m      <a href='vscode-notebook-cell://wsl%2Bubuntu/home/randy/npy/Exercise_BCI.ipynb#W3sdnNjb2RlLXJlbW90ZQ%3D%3D?line=2'>3</a>\u001b[0m \u001b[39mTrain a nearest centroid classifier for N data points in D dimensions\u001b[39;00m\n\u001b[1;32m      <a href='vscode-notebook-cell://wsl%2Bubuntu/home/randy/npy/Exercise_BCI.ipynb#W3sdnNjb2RlLXJlbW90ZQ%3D%3D?line=3'>4</a>\u001b[0m \u001b[39m\u001b[39;00m\n\u001b[0;32m   (...)\u001b[0m\n\u001b[1;32m     <a href='vscode-notebook-cell://wsl%2Bubuntu/home/randy/npy/Exercise_BCI.ipynb#W3sdnNjb2RlLXJlbW90ZQ%3D%3D?line=9'>10</a>\u001b[0m \u001b[39mb bias vector of length D\u001b[39;00m\n\u001b[1;32m     <a href='vscode-notebook-cell://wsl%2Bubuntu/home/randy/npy/Exercise_BCI.ipynb#W3sdnNjb2RlLXJlbW90ZQ%3D%3D?line=10'>11</a>\u001b[0m \u001b[39m'''\u001b[39;00m\n\u001b[1;32m     <a href='vscode-notebook-cell://wsl%2Bubuntu/home/randy/npy/Exercise_BCI.ipynb#W3sdnNjb2RlLXJlbW90ZQ%3D%3D?line=11'>12</a>\u001b[0m \u001b[39m# class means\u001b[39;00m\n\u001b[1;32m     <a href='vscode-notebook-cell://wsl%2Bubuntu/home/randy/npy/Exercise_BCI.ipynb#W3sdnNjb2RlLXJlbW90ZQ%3D%3D?line=12'>13</a>\u001b[0m \u001b[39m# IMPLEMENT CODE HERE\u001b[39;00m\n\u001b[0;32m---> <a href='vscode-notebook-cell://wsl%2Bubuntu/home/randy/npy/Exercise_BCI.ipynb#W3sdnNjb2RlLXJlbW90ZQ%3D%3D?line=13'>14</a>\u001b[0m mupos \u001b[39m=\u001b[39m \u001b[39m1\u001b[39m\u001b[39m/\u001b[39mnp\u001b[39m.\u001b[39mabs(Y[\u001b[39m1\u001b[39m]) \u001b[39m+\u001b[39m X[Y[\u001b[39m1\u001b[39;49m]]\n\u001b[1;32m     <a href='vscode-notebook-cell://wsl%2Bubuntu/home/randy/npy/Exercise_BCI.ipynb#W3sdnNjb2RlLXJlbW90ZQ%3D%3D?line=14'>15</a>\u001b[0m muneg \u001b[39m=\u001b[39m \u001b[39m1\u001b[39m\u001b[39m/\u001b[39mnp\u001b[39m.\u001b[39mabs(Y[\u001b[39m0\u001b[39m]) \u001b[39m+\u001b[39m X[Y[\u001b[39m0\u001b[39m]]\n\u001b[1;32m     <a href='vscode-notebook-cell://wsl%2Bubuntu/home/randy/npy/Exercise_BCI.ipynb#W3sdnNjb2RlLXJlbW90ZQ%3D%3D?line=15'>16</a>\u001b[0m w \u001b[39m=\u001b[39m \u001b[39m.\u001b[39m\u001b[39m.\u001b[39m\u001b[39m.\u001b[39m\n",
      "\u001b[0;31mIndexError\u001b[0m: only integers, slices (`:`), ellipsis (`...`), numpy.newaxis (`None`) and integer or boolean arrays are valid indices"
     ]
    }
   ],
   "source": [
    "def ncc_fit(X, Y):\n",
    "    '''\n",
    "    Train a nearest centroid classifier for N data points in D dimensions\n",
    "    \n",
    "    Input: \n",
    "    X N-by-D Data Matrix\n",
    "    Y label vector of length N, labels are -1 or 1\n",
    "    Output: \n",
    "    w weight vector of length D\n",
    "    b bias vector of length D\n",
    "    '''\n",
    "    # class means\n",
    "    # IMPLEMENT CODE HERE\n",
    "    mupos = 1/np.abs(Y[1]) + X[Y[1]]\n",
    "    muneg = 1/np.abs(Y[0]) + X[Y[0]]\n",
    "    w = ...\n",
    "    b = (w.dot(mupos) + w.dot(muneg))/2.\n",
    "    # return the weight vector\n",
    "    return w,b\n",
    "\n",
    "X_train, X_test, Y_train, Y_test = train_test_split(X,Y)\n",
    "\n",
    "w_ncc, b_ncc = ncc_fit(X_train, Y_train)\n",
    "\n",
    "pl.hist(X_test[Y_test<0, :] @ w_ncc)\n",
    "pl.hist(X_test[Y_test>0, :] @ w_ncc)\n",
    "pl.plot([b_ncc, b_ncc], [0, 500], color='k')\n",
    "pl.xlabel('$Xw_{NCC}$')\n",
    "pl.legend(('$b_{ncc}$','non-target','target'))\n",
    "pl.ylim([0, 450])\n",
    "acc = int((np.sign(X_test @ w_ncc - b_ncc)==Y_test).mean()*100)\n",
    "pl.title(f\"NCC Acc {acc}%\");"
   ]
  },
  {
   "attachments": {},
   "cell_type": "markdown",
   "metadata": {},
   "source": [
    "# Assignment 2: Train a Linear Discriminant Analysis Classifier\n",
    "\n",
    "Train a linear discriminant classifier and compare it with the NCC one."
   ]
  },
  {
   "cell_type": "code",
   "execution_count": null,
   "metadata": {},
   "outputs": [],
   "source": [
    "def lda_fit(X,Y):\n",
    "    '''\n",
    "    Train a Linear Discriminant Analysis classifier\n",
    "    \n",
    "    Input: \n",
    "    X N-by-D Data Matrix\n",
    "    Y label vector of length N, labels are -1 or 1\n",
    "    Output: \n",
    "    w weight vector of length D\n",
    "    b bias vector of length D\n",
    "    '''\n",
    "    # class means\n",
    "    # IMPLEMENT CODE HERE\n",
    "    mupos = 1/np.abs(Y[1]) + X[Y[1]]\n",
    "    muneg = 1/np.abs(Y[0]) + X[Y[0]]\n",
    "    \n",
    "    # D-by-D inter class covariance matrix (signal)\n",
    "    Sinter = (muneg - mupos) * (muneg - mupos)\n",
    "    # D-by-D intra class covariance matrices (noise)\n",
    "    Sintra = (X[Y[0]] - muneg) * (X[Y[0]] - muneg) + (X[Y[0]] - mupos) * (X[Y[0]] - mupos)\n",
    "    # solve eigenproblem\n",
    "    eigvals, eigvecs = eig(Sinter,Sintra)\n",
    "    w = eigvecs[:,eigvals.argmax()]\n",
    "    # bias term\n",
    "    b = (w.dot(mupos) + w.dot(muneg))/2.\n",
    "    # return the weight vector\n",
    "    return w,b"
   ]
  },
  {
   "attachments": {},
   "cell_type": "markdown",
   "metadata": {},
   "source": [
    "This Code plots the results, do not modify it"
   ]
  },
  {
   "cell_type": "code",
   "execution_count": null,
   "metadata": {},
   "outputs": [
    {
     "ename": "NameError",
     "evalue": "name 'train_test_split' is not defined",
     "output_type": "error",
     "traceback": [
      "\u001b[0;31m---------------------------------------------------------------------------\u001b[0m",
      "\u001b[0;31mNameError\u001b[0m                                 Traceback (most recent call last)",
      "\u001b[1;32m/home/randy/npy/Exercise_BCI.ipynb Cell 8\u001b[0m in \u001b[0;36m<cell line: 1>\u001b[0;34m()\u001b[0m\n\u001b[0;32m----> <a href='vscode-notebook-cell://wsl%2Bubuntu/home/randy/npy/Exercise_BCI.ipynb#X10sdnNjb2RlLXJlbW90ZQ%3D%3D?line=0'>1</a>\u001b[0m X_train, X_test, Y_train, Y_test \u001b[39m=\u001b[39m train_test_split(X,Y)\n\u001b[1;32m      <a href='vscode-notebook-cell://wsl%2Bubuntu/home/randy/npy/Exercise_BCI.ipynb#X10sdnNjb2RlLXJlbW90ZQ%3D%3D?line=2'>3</a>\u001b[0m w_ncc, b_ncc \u001b[39m=\u001b[39m ncc_fit(X_train, Y_train)\n\u001b[1;32m      <a href='vscode-notebook-cell://wsl%2Bubuntu/home/randy/npy/Exercise_BCI.ipynb#X10sdnNjb2RlLXJlbW90ZQ%3D%3D?line=3'>4</a>\u001b[0m w_lda,b_lda \u001b[39m=\u001b[39m lda_fit(X_train,Y_train)\n",
      "\u001b[0;31mNameError\u001b[0m: name 'train_test_split' is not defined"
     ]
    }
   ],
   "source": [
    "X_train, X_test, Y_train, Y_test = train_test_split(X,Y)\n",
    "\n",
    "w_ncc, b_ncc = ncc_fit(X_train, Y_train)\n",
    "w_lda,b_lda = lda_fit(X_train,Y_train)\n",
    "\n",
    "pl.figure(figsize=[14,5])\n",
    "pl.subplot(1,2,1)\n",
    "pl.hist(X_test[Y_test<0, :] @ w_ncc)\n",
    "pl.hist(X_test[Y_test>0, :] @ w_ncc)\n",
    "pl.plot([b_ncc, b_ncc], [0, 500], color='k')\n",
    "pl.xlabel('$Xw_{NCC}$')\n",
    "pl.legend(('$b_{ncc}$','non-target','target'))\n",
    "pl.ylim([0, 450])\n",
    "acc = int((np.sign(X_test @ w_ncc - b_ncc)==Y_test).mean()*100)\n",
    "pl.title(f\"NCC Acc {acc}%\");\n",
    "\n",
    "pl.subplot(1,2,2)\n",
    "pl.hist(X_test[Y_test<0, :] @ w_lda)\n",
    "pl.hist(X_test[Y_test>0, :] @ w_lda)\n",
    "pl.plot([b_lda, b_lda], [0, 500], color='k')\n",
    "pl.xlabel('$Xw_{NCC}$')\n",
    "pl.legend(('$b_{ncc}$','non-target','target'))\n",
    "pl.ylim([0, 300])\n",
    "acc = int((np.sign(X_test @ w_lda - b_lda)==Y_test).mean()*100)\n",
    "pl.title(f\"LDA Acc {acc}%\");"
   ]
  }
 ],
 "metadata": {
  "kernelspec": {
   "display_name": "Python 3 (ipykernel)",
   "language": "python",
   "name": "python3"
  },
  "language_info": {
   "codemirror_mode": {
    "name": "ipython",
    "version": 3
   },
   "file_extension": ".py",
   "mimetype": "text/x-python",
   "name": "python",
   "nbconvert_exporter": "python",
   "pygments_lexer": "ipython3",
   "version": "3.8.10"
  }
 },
 "nbformat": 4,
 "nbformat_minor": 2
}
